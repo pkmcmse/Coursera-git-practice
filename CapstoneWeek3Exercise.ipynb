{
 "cells": [
  {
   "cell_type": "code",
   "execution_count": null,
   "id": "c53d2b7d",
   "metadata": {},
   "outputs": [],
   "source": []
  },
  {
   "cell_type": "code",
   "execution_count": 1,
   "id": "7b658c38",
   "metadata": {},
   "outputs": [],
   "source": [
    "import mysql.connector as connector"
   ]
  },
  {
   "cell_type": "code",
   "execution_count": 53,
   "id": "32940dca",
   "metadata": {},
   "outputs": [],
   "source": [
    "connection = connector.connect(user = \"root\", password = \"\",db = \"little_lemon_db\")\n",
    "cursor = connection.cursor()"
   ]
  },
  {
   "cell_type": "code",
   "execution_count": 74,
   "id": "7e5a729c",
   "metadata": {},
   "outputs": [],
   "source": [
    "show_tables_query = \"SHOW tables\" \n",
    "\n",
    "cursor.execute(show_tables_query)"
   ]
  },
  {
   "cell_type": "code",
   "execution_count": 75,
   "id": "b0cd405d",
   "metadata": {},
   "outputs": [
    {
     "name": "stdout",
     "output_type": "stream",
     "text": [
      "('bookings',)\n",
      "('employees',)\n",
      "('menuitems',)\n",
      "('menus',)\n",
      "('orders',)\n"
     ]
    }
   ],
   "source": [
    "#result=cursor.fetchall()\n",
    "for i in cursor:\n",
    "    print(i)"
   ]
  },
  {
   "cell_type": "code",
   "execution_count": 56,
   "id": "99e56282",
   "metadata": {},
   "outputs": [],
   "source": [
    "for tables in cursor:\n",
    "    print(tables)"
   ]
  },
  {
   "cell_type": "code",
   "execution_count": 58,
   "id": "5c3d0a93",
   "metadata": {},
   "outputs": [
    {
     "name": "stdout",
     "output_type": "stream",
     "text": [
      "(1, 12, 1, 1, 86, 2)\n",
      "(2, 19, 2, 2, 37, 1)\n",
      "(3, 15, 2, 3, 37, 1)\n",
      "(4, 5, 3, 4, 40, 1)\n",
      "(5, 8, 1, 5, 43, 1)\n"
     ]
    }
   ],
   "source": [
    "cursor.execute('SELECT*FROM orders')\n",
    "for tables in cursor:\n",
    "    print(tables)"
   ]
  },
  {
   "cell_type": "code",
   "execution_count": 60,
   "id": "70745936",
   "metadata": {},
   "outputs": [
    {
     "name": "stdout",
     "output_type": "stream",
     "text": [
      "('BookingID', b'int', 'NO', 'PRI', None, 'auto_increment')\n",
      "('TableNo', b'int', 'YES', '', None, '')\n",
      "('GuestFirstName', b'varchar(100)', 'NO', '', None, '')\n",
      "('GuestLastName', b'varchar(100)', 'NO', '', None, '')\n",
      "('BookingSlot', b'time', 'NO', '', None, '')\n",
      "('EmployeeID', b'int', 'YES', '', None, '')\n"
     ]
    }
   ],
   "source": [
    "cursor.execute('describe bookings')\n",
    "for tables in cursor:\n",
    "    print(tables)"
   ]
  },
  {
   "cell_type": "code",
   "execution_count": 51,
   "id": "0d71d7a9",
   "metadata": {},
   "outputs": [],
   "source": [
    "cursor.execute('SELECT* FROM orders')\n",
    "for tables in cursor:\n",
    "    print(tables)"
   ]
  },
  {
   "cell_type": "code",
   "execution_count": 68,
   "id": "21180cdb",
   "metadata": {
    "scrolled": true
   },
   "outputs": [
    {
     "name": "stdout",
     "output_type": "stream",
     "text": [
      "('OrderID', b'int', 'NO', 'PRI', None, '')\n",
      "('TableNo', b'int', 'NO', 'PRI', None, '')\n",
      "('MenuID', b'int', 'YES', '', None, '')\n",
      "('BookingID', b'int', 'YES', '', None, '')\n",
      "('BillAmount', b'int', 'YES', '', None, '')\n",
      "('Quantity', b'int', 'YES', '', None, '')\n"
     ]
    }
   ],
   "source": [
    "cursor.execute('describe orders')\n",
    "for tables in cursor:\n",
    "    print(tables)"
   ]
  },
  {
   "cell_type": "code",
   "execution_count": 73,
   "id": "77ad65b4",
   "metadata": {},
   "outputs": [
    {
     "name": "stdout",
     "output_type": "stream",
     "text": [
      "('Anna', 'Iversen', 86)\n"
     ]
    }
   ],
   "source": [
    "cursor.execute('SELECT bookings.GuestFirstName, bookings.GuestLastName, orders.BillAmount  \\\n",
    "               FROM bookings INNER JOIN  orders \\\n",
    "               ON bookings.BookingID=orders.BookingID \\\n",
    "               WHERE BillAmount > 60 ')\n",
    "for tables in cursor:\n",
    "    print(tables)"
   ]
  },
  {
   "cell_type": "code",
   "execution_count": null,
   "id": "ccb3f548",
   "metadata": {},
   "outputs": [],
   "source": []
  }
 ],
 "metadata": {
  "kernelspec": {
   "display_name": "Python 3 (ipykernel)",
   "language": "python",
   "name": "python3"
  },
  "language_info": {
   "codemirror_mode": {
    "name": "ipython",
    "version": 3
   },
   "file_extension": ".py",
   "mimetype": "text/x-python",
   "name": "python",
   "nbconvert_exporter": "python",
   "pygments_lexer": "ipython3",
   "version": "3.11.2"
  }
 },
 "nbformat": 4,
 "nbformat_minor": 5
}
